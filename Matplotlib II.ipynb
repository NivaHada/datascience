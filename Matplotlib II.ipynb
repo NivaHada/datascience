{
 "cells": [
  {
   "cell_type": "markdown",
   "metadata": {
    "collapsed": true
   },
   "source": [
    "# Matplotlib II\n",
    "---"
   ]
  },
  {
   "cell_type": "code",
   "execution_count": 1,
   "metadata": {
    "collapsed": true
   },
   "outputs": [],
   "source": [
    "import numpy as np\n",
    "import matplotlib.pyplot as plt"
   ]
  },
  {
   "cell_type": "code",
   "execution_count": 3,
   "metadata": {
    "collapsed": true
   },
   "outputs": [],
   "source": [
    "%matplotlib inline"
   ]
  },
  {
   "cell_type": "code",
   "execution_count": null,
   "metadata": {
    "collapsed": true
   },
   "outputs": [],
   "source": []
  },
  {
   "cell_type": "code",
   "execution_count": 4,
   "metadata": {
    "collapsed": true
   },
   "outputs": [],
   "source": [
    "values = np.random.rand(100)"
   ]
  },
  {
   "cell_type": "code",
   "execution_count": 5,
   "metadata": {},
   "outputs": [
    {
     "data": {
      "text/plain": [
       "array([ 0.88679039,  0.162961  ,  0.24303622,  0.80055279,  0.32009725,\n",
       "        0.73893731,  0.68563355,  0.67235174,  0.80185775,  0.50539487,\n",
       "        0.15756633,  0.8390389 ,  0.05855557,  0.07032522,  0.32047645,\n",
       "        0.45783521,  0.71528215,  0.63009482,  0.35953471,  0.64067583,\n",
       "        0.40748007,  0.13734251,  0.82862712,  0.14471018,  0.43926846,\n",
       "        0.80373967,  0.3121581 ,  0.03280348,  0.64941227,  0.29476589,\n",
       "        0.96788895,  0.96261863,  0.33252274,  0.12810088,  0.69172831,\n",
       "        0.75348195,  0.15716535,  0.15828261,  0.82477589,  0.86438954,\n",
       "        0.62122294,  0.59413768,  0.40657472,  0.74670709,  0.97374039,\n",
       "        0.03072613,  0.22084272,  0.97309271,  0.66957256,  0.69441648,\n",
       "        0.57408643,  0.92954556,  0.45905404,  0.84205265,  0.72734711,\n",
       "        0.44382246,  0.57277963,  0.18490125,  0.37747143,  0.85076417,\n",
       "        0.74488921,  0.8968883 ,  0.61616476,  0.74738407,  0.48730345,\n",
       "        0.29733477,  0.60127855,  0.32968342,  0.63788159,  0.58288101,\n",
       "        0.93073982,  0.04927841,  0.22416089,  0.15973019,  0.94435374,\n",
       "        0.7074157 ,  0.83588113,  0.4447661 ,  0.43321726,  0.34179288,\n",
       "        0.81880497,  0.25096173,  0.56188892,  0.43630582,  0.94616511,\n",
       "        0.04099437,  0.16712094,  0.65135398,  0.69092105,  0.07806773,\n",
       "        0.92387609,  0.25282665,  0.01741931,  0.15608753,  0.88094595,\n",
       "        0.13412378,  0.25808264,  0.60650141,  0.10627412,  0.46956092])"
      ]
     },
     "execution_count": 5,
     "metadata": {},
     "output_type": "execute_result"
    }
   ],
   "source": [
    "values"
   ]
  },
  {
   "cell_type": "code",
   "execution_count": 6,
   "metadata": {},
   "outputs": [
    {
     "data": {
      "text/plain": [
       "<matplotlib.collections.PathCollection at 0x7f1ade55a5c0>"
      ]
     },
     "execution_count": 6,
     "metadata": {},
     "output_type": "execute_result"
    },
    {
     "data": {
      "image/png": "[encoded data removed]",
      "text/plain": [
       "<matplotlib.figure.Figure at 0x7f1ae113fac8>"
      ]
     },
     "metadata": {},
     "output_type": "display_data"
    }
   ],
   "source": [
    "plt.scatter(values, np.random.rand(100))"
   ]
  },
  {
   "cell_type": "code",
   "execution_count": null,
   "metadata": {
    "collapsed": true
   },
   "outputs": [],
   "source": []
  },
  {
   "cell_type": "code",
   "execution_count": 7,
   "metadata": {},
   "outputs": [
    {
     "data": {
      "text/plain": [
       "(array([  9.,  12.,   8.,   8.,  11.,   5.,  13.,  11.,  11.,  12.]),\n",
       " array([ 0.01741931,  0.11305142,  0.20868352,  0.30431563,  0.39994774,\n",
       "         0.49557985,  0.59121195,  0.68684406,  0.78247617,  0.87810828,\n",
       "         0.97374039]),\n",
       " <a list of 10 Patch objects>)"
      ]
     },
     "execution_count": 7,
     "metadata": {},
     "output_type": "execute_result"
    },
    {
     "data": {
      "image/png": "[encoded data removed]",
      "text/plain": [
       "<matplotlib.figure.Figure at 0x7f1ade4b95f8>"
      ]
     },
     "metadata": {},
     "output_type": "display_data"
    }
   ],
   "source": [
    "plt.hist(values)"
   ]
  },
  {
   "cell_type": "code",
   "execution_count": null,
   "metadata": {
    "collapsed": true
   },
   "outputs": [],
   "source": []
  },
  {
   "cell_type": "code",
   "execution_count": 11,
   "metadata": {},
   "outputs": [],
   "source": [
    "ages = [np.random.randint(70) for i in range(0, 20)]"
   ]
  },
  {
   "cell_type": "code",
   "execution_count": 12,
   "metadata": {},
   "outputs": [
    {
     "data": {
      "text/plain": [
       "[29, 42, 64, 21, 59, 0, 40, 3, 29, 38, 25, 26, 61, 52, 34, 58, 29, 32, 21, 66]"
      ]
     },
     "execution_count": 12,
     "metadata": {},
     "output_type": "execute_result"
    }
   ],
   "source": [
    "ages"
   ]
  },
  {
   "cell_type": "code",
   "execution_count": 13,
   "metadata": {},
   "outputs": [
    {
     "data": {
      "text/plain": [
       "(array([ 2.,  0.,  0.,  4.,  4.,  2.,  2.,  1.,  2.,  3.]),\n",
       " array([  0. ,   6.6,  13.2,  19.8,  26.4,  33. ,  39.6,  46.2,  52.8,\n",
       "         59.4,  66. ]),\n",
       " <a list of 10 Patch objects>)"
      ]
     },
     "execution_count": 13,
     "metadata": {},
     "output_type": "execute_result"
    },
    {
     "data": {
      "image/png": "[encoded data removed]",
      "text/plain": [
       "<matplotlib.figure.Figure at 0x7f1ade383ef0>"
      ]
     },
     "metadata": {},
     "output_type": "display_data"
    }
   ],
   "source": [
    "plt.hist(ages)"
   ]
  },
  {
   "cell_type": "code",
   "execution_count": 15,
   "metadata": {},
   "outputs": [
    {
     "data": {
      "text/plain": [
       "(array([ 2.,  0.,  0.,  0.,  0.,  0.,  2.,  2.,  3.,  1.,  1.,  1.,  2.,\n",
       "         0.,  0.,  1.,  0.,  2.,  1.,  2.]),\n",
       " array([  0. ,   3.3,   6.6,   9.9,  13.2,  16.5,  19.8,  23.1,  26.4,\n",
       "         29.7,  33. ,  36.3,  39.6,  42.9,  46.2,  49.5,  52.8,  56.1,\n",
       "         59.4,  62.7,  66. ]),\n",
       " <a list of 20 Patch objects>)"
      ]
     },
     "execution_count": 15,
     "metadata": {},
     "output_type": "execute_result"
    },
    {
     "data": {
      "image/png": "[encoded data removed]",
      "text/plain": [
       "<matplotlib.figure.Figure at 0x7f1ade267908>"
      ]
     },
     "metadata": {},
     "output_type": "display_data"
    }
   ],
   "source": [
    "plt.hist(ages, bins=20)"
   ]
  },
  {
   "cell_type": "code",
   "execution_count": 16,
   "metadata": {},
   "outputs": [
    {
     "data": {
      "text/plain": [
       "(array([ 2.,  4.,  6.,  3.,  5.]),\n",
       " array([  0. ,  13.2,  26.4,  39.6,  52.8,  66. ]),\n",
       " <a list of 5 Patch objects>)"
      ]
     },
     "execution_count": 16,
     "metadata": {},
     "output_type": "execute_result"
    },
    {
     "data": {
      "image/png": "[encoded data removed]",
      "text/plain": [
       "<matplotlib.figure.Figure at 0x7f1ade124630>"
      ]
     },
     "metadata": {},
     "output_type": "display_data"
    }
   ],
   "source": [
    "plt.hist(ages, bins=5)"
   ]
  },
  {
   "cell_type": "code",
   "execution_count": 23,
   "metadata": {
    "collapsed": true
   },
   "outputs": [],
   "source": [
    "ages = [np.random.randint(25, 75) for i in range(0, 20)]"
   ]
  },
  {
   "cell_type": "code",
   "execution_count": 24,
   "metadata": {},
   "outputs": [],
   "source": [
    "ages.append(3)\n",
    "ages.append(91)"
   ]
  },
  {
   "cell_type": "code",
   "execution_count": 25,
   "metadata": {},
   "outputs": [
    {
     "data": {
      "text/plain": [
       "{'boxes': [<matplotlib.lines.Line2D at 0x7f1adde902b0>],\n",
       " 'caps': [<matplotlib.lines.Line2D at 0x7f1adde99c88>,\n",
       "  <matplotlib.lines.Line2D at 0x7f1adde99e48>],\n",
       " 'fliers': [<matplotlib.lines.Line2D at 0x7f1adde20eb8>],\n",
       " 'means': [],\n",
       " 'medians': [<matplotlib.lines.Line2D at 0x7f1adde206a0>],\n",
       " 'whiskers': [<matplotlib.lines.Line2D at 0x7f1adde90c18>,\n",
       "  <matplotlib.lines.Line2D at 0x7f1adde90e10>]}"
      ]
     },
     "execution_count": 25,
     "metadata": {},
     "output_type": "execute_result"
    },
    {
     "data": {
      "image/png": "[encoded data removed]",
      "text/plain": [
       "<matplotlib.figure.Figure at 0x7f1addea6080>"
      ]
     },
     "metadata": {},
     "output_type": "display_data"
    }
   ],
   "source": [
    "plt.boxplot(ages)"
   ]
  },
  {
   "cell_type": "code",
   "execution_count": 22,
   "metadata": {},
   "outputs": [
    {
     "data": {
      "text/plain": [
       "[39,\n",
       " 43,\n",
       " 43,\n",
       " 49,\n",
       " 36,\n",
       " 28,\n",
       " 36,\n",
       " 24,\n",
       " 27,\n",
       " 22,\n",
       " 45,\n",
       " 47,\n",
       " 39,\n",
       " 34,\n",
       " 45,\n",
       " 32,\n",
       " 32,\n",
       " 37,\n",
       " 31,\n",
       " 32,\n",
       " 5,\n",
       " 79]"
      ]
     },
     "execution_count": 22,
     "metadata": {},
     "output_type": "execute_result"
    }
   ],
   "source": [
    "ages"
   ]
  },
  {
   "cell_type": "code",
   "execution_count": null,
   "metadata": {
    "collapsed": true
   },
   "outputs": [],
   "source": []
  },
  {
   "cell_type": "markdown",
   "metadata": {},
   "source": [
    "**H/W: Learn about finding quartiles and outliers**"
   ]
  },
  {
   "cell_type": "code",
   "execution_count": 26,
   "metadata": {},
   "outputs": [
    {
     "data": {
      "text/plain": [
       "<Container object of 3 artists>"
      ]
     },
     "execution_count": 26,
     "metadata": {},
     "output_type": "execute_result"
    },
    {
     "data": {
      "image/png": "[encoded data removed]",
      "text/plain": [
       "<matplotlib.figure.Figure at 0x7f1adde3f240>"
      ]
     },
     "metadata": {},
     "output_type": "display_data"
    }
   ],
   "source": [
    "plt.bar([10, 12, 14], [20, 10, 15])"
   ]
  },
  {
   "cell_type": "code",
   "execution_count": null,
   "metadata": {
    "collapsed": true
   },
   "outputs": [],
   "source": []
  },
  {
   "cell_type": "code",
   "execution_count": null,
   "metadata": {
    "collapsed": true
   },
   "outputs": [],
   "source": []
  },
  {
   "cell_type": "code",
   "execution_count": 27,
   "metadata": {
    "collapsed": true
   },
   "outputs": [],
   "source": [
    "x_range = np.linspace(-np.pi, np.pi, num=256, endpoint=True)\n",
    "sin_y = np.sin(x_range)\n",
    "cos_y = np.cos(x_range)"
   ]
  },
  {
   "cell_type": "code",
   "execution_count": null,
   "metadata": {
    "collapsed": true
   },
   "outputs": [],
   "source": []
  },
  {
   "cell_type": "markdown",
   "metadata": {},
   "source": [
    "## Axes"
   ]
  },
  {
   "cell_type": "markdown",
   "metadata": {},
   "source": [
    "### Spines"
   ]
  },
  {
   "cell_type": "code",
   "execution_count": 28,
   "metadata": {},
   "outputs": [
    {
     "data": {
      "image/png": "[encoded data removed]",
      "text/plain": [
       "<matplotlib.figure.Figure at 0x7f1adde529b0>"
      ]
     },
     "metadata": {},
     "output_type": "display_data"
    }
   ],
   "source": [
    "plt.plot(x_range, sin_y, color='red', linewidth=2.0)\n",
    "plt.plot(x_range, cos_y, color='blue', linewidth=2.0)\n",
    "\n",
    "# limiting plot values\n",
    "plt.xlim(x_range.min()*1.1, x_range.max()*1.1)\n",
    "plt.ylim(cos_y.min()*1.1, cos_y.max()*1.1)\n",
    "\n",
    "# ticks\n",
    "plt.xticks([-np.pi, -np.pi/2, 0, np.pi/2, np.pi], \n",
    "          [r'$-\\pi$', r'$-\\pi/2$', r'$0$', r'$+\\pi/2$', r'$+\\pi$'])\n",
    "plt.yticks([-1, 0, 1])\n",
    "\n",
    "ax = plt.gca()\n",
    "ax.spines['right'].set_color('none')\n",
    "ax.spines['top'].set_color('none')\n",
    "ax.xaxis.set_ticks_position('bottom')\n",
    "ax.spines['bottom'].set_position(('data', 0))\n",
    "ax.yaxis.set_ticks_position('left')\n",
    "ax.spines['left'].set_position(('data', 0))\n",
    "\n",
    "\n",
    "plt.show()"
   ]
  },
  {
   "cell_type": "markdown",
   "metadata": {},
   "source": [
    "### Annotations"
   ]
  },
  {
   "cell_type": "code",
   "execution_count": null,
   "metadata": {
    "collapsed": true
   },
   "outputs": [],
   "source": []
  },
  {
   "cell_type": "code",
   "execution_count": null,
   "metadata": {
    "collapsed": true
   },
   "outputs": [],
   "source": []
  },
  {
   "cell_type": "markdown",
   "metadata": {},
   "source": [
    "### Animation"
   ]
  },
  {
   "cell_type": "code",
   "execution_count": null,
   "metadata": {
    "collapsed": true
   },
   "outputs": [],
   "source": []
  },
  {
   "cell_type": "code",
   "execution_count": null,
   "metadata": {
    "collapsed": true
   },
   "outputs": [],
   "source": []
  }
 ],
 "metadata": {
  "kernelspec": {
   "display_name": "Python 3",
   "language": "python",
   "name": "python3"
  },
  "language_info": {
   "codemirror_mode": {
    "name": "ipython",
    "version": 3
   },
   "file_extension": ".py",
   "mimetype": "text/x-python",
   "name": "python",
   "nbconvert_exporter": "python",
   "pygments_lexer": "ipython3",
   "version": "3.6.1"
  }
 },
 "nbformat": 4,
 "nbformat_minor": 1
}
