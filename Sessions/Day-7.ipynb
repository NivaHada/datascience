{
 "cells": [
  {
   "cell_type": "markdown",
   "metadata": {},
   "source": [
    "# Matplotlib\n",
    "---"
   ]
  },
  {
   "cell_type": "code",
   "execution_count": 1,
   "metadata": {
    "collapsed": true
   },
   "outputs": [],
   "source": [
    "import numpy as np\n",
    "import matplotlib\n",
    "import matplotlib.pyplot as plt"
   ]
  },
  {
   "cell_type": "code",
   "execution_count": 2,
   "metadata": {
    "collapsed": true
   },
   "outputs": [],
   "source": [
    "%matplotlib inline"
   ]
  },
  {
   "cell_type": "code",
   "execution_count": 3,
   "metadata": {
    "collapsed": true
   },
   "outputs": [],
   "source": [
    "arr = np.tan(np.linspace(-np.pi, np.pi, num=50))"
   ]
  },
  {
   "cell_type": "code",
   "execution_count": 4,
   "metadata": {},
   "outputs": [
    {
     "data": {
      "text/plain": [
       "array([  1.22464680e-16,   1.28935722e-01,   2.62230881e-01,\n",
       "         4.04855131e-01,   5.63189508e-01,   7.46319396e-01,\n",
       "         9.68445994e-01,   1.25396034e+00,   1.64960460e+00,\n",
       "         2.25901742e+00,   3.36933183e+00,   6.18535359e+00,\n",
       "         3.11836824e+01,  -1.03660461e+01,  -4.38128627e+00,\n",
       "        -2.71732305e+00,  -1.91681278e+00,  -1.43357520e+00,\n",
       "        -1.10111114e+00,  -8.51312412e-01,  -6.50927865e-01,\n",
       "        -4.81574619e-01,  -3.32022875e-01,  -1.94749983e-01,\n",
       "        -6.42021301e-02,   6.42021301e-02,   1.94749983e-01,\n",
       "         3.32022875e-01,   4.81574619e-01,   6.50927865e-01,\n",
       "         8.51312412e-01,   1.10111114e+00,   1.43357520e+00,\n",
       "         1.91681278e+00,   2.71732305e+00,   4.38128627e+00,\n",
       "         1.03660461e+01,  -3.11836824e+01,  -6.18535359e+00,\n",
       "        -3.36933183e+00,  -2.25901742e+00,  -1.64960460e+00,\n",
       "        -1.25396034e+00,  -9.68445994e-01,  -7.46319396e-01,\n",
       "        -5.63189508e-01,  -4.04855131e-01,  -2.62230881e-01,\n",
       "        -1.28935722e-01,  -1.22464680e-16])"
      ]
     },
     "execution_count": 4,
     "metadata": {},
     "output_type": "execute_result"
    }
   ],
   "source": [
    "arr"
   ]
  },
  {
   "cell_type": "code",
   "execution_count": 5,
   "metadata": {},
   "outputs": [
    {
     "data": {
      "text/plain": [
       "[<matplotlib.lines.Line2D at 0x7faf0246ca58>]"
      ]
     },
     "execution_count": 5,
     "metadata": {},
     "output_type": "execute_result"
    },
    {
     "data": {
      "image/png": "[encoded data removed]",
      "text/plain": [
       "<matplotlib.figure.Figure at 0x7faf04dea7b8>"
      ]
     },
     "metadata": {},
     "output_type": "display_data"
    }
   ],
   "source": [
    "plt.plot(arr)"
   ]
  },
  {
   "cell_type": "code",
   "execution_count": 6,
   "metadata": {},
   "outputs": [
    {
     "name": "stdout",
     "output_type": "stream",
     "text": [
      " figure(num=None, figsize=None, dpi=None, facecolor=None, edgecolor=None,\n",
      "        frameon=True, FigureClass=<class 'matplotlib.figure.Figure'>,\n",
      "        **kwargs)\n",
      "\n",
      "Creates a new figure.\n",
      "\n",
      "Parameters\n",
      "----------\n",
      "\n",
      "num : integer or string, optional, default: none\n",
      "    If not provided, a new figure will be created, and the figure number\n",
      "    will be incremented. The figure objects holds this number in a `number`\n",
      "    attribute.\n",
      "    If num is provided, and a figure with this id already exists, make\n",
      "    it active, and returns a reference to it. If this figure does not\n",
      "    exists, create it and returns it.\n",
      "    If num is a string, the window title will be set to this figure's\n",
      "    `num`.\n",
      "\n",
      "figsize : tuple of integers, optional, default: None\n",
      "    width, height in inches. If not provided, defaults to rc\n",
      "    figure.figsize.\n",
      "\n",
      "dpi : integer, optional, default: None\n",
      "    resolution of the figure. If not provided, defaults to rc figure.dpi.\n",
      "\n",
      "facecolor :\n",
      "    the background color. If not provided, defaults to rc figure.facecolor\n",
      "\n",
      "edgecolor :\n",
      "    the border color. If not provided, defaults to rc figure.edgecolor\n",
      "\n",
      "Returns\n",
      "-------\n",
      "figure : Figure\n",
      "    The Figure instance returned will also be passed to new_figure_manager\n",
      "    in the backends, which allows to hook custom Figure classes into the\n",
      "    pylab interface. Additional kwargs will be passed to the figure init\n",
      "    function.\n",
      "\n",
      "Notes\n",
      "-----\n",
      "If you are creating many figures, make sure you explicitly call \"close\"\n",
      "on the figures you are not using, because this will enable pylab\n",
      "to properly clean up the memory.\n",
      "\n",
      "rcParams defines the default values, which can be modified in the\n",
      "matplotlibrc file\n"
     ]
    }
   ],
   "source": [
    "np.info(plt.figure)"
   ]
  },
  {
   "cell_type": "code",
   "execution_count": 7,
   "metadata": {},
   "outputs": [
    {
     "data": {
      "text/plain": [
       "<matplotlib.figure.Figure at 0x7faf024af7b8>"
      ]
     },
     "metadata": {},
     "output_type": "display_data"
    }
   ],
   "source": [
    "fig = plt.figure(edgecolor='red')"
   ]
  },
  {
   "cell_type": "code",
   "execution_count": 8,
   "metadata": {},
   "outputs": [
    {
     "data": {
      "text/plain": [
       "['_Figure__remove_ax',\n",
       " '__class__',\n",
       " '__delattr__',\n",
       " '__dict__',\n",
       " '__dir__',\n",
       " '__doc__',\n",
       " '__eq__',\n",
       " '__format__',\n",
       " '__ge__',\n",
       " '__getattribute__',\n",
       " '__getstate__',\n",
       " '__gt__',\n",
       " '__hash__',\n",
       " '__init__',\n",
       " '__init_subclass__',\n",
       " '__le__',\n",
       " '__lt__',\n",
       " '__module__',\n",
       " '__ne__',\n",
       " '__new__',\n",
       " '__reduce__',\n",
       " '__reduce_ex__',\n",
       " '__repr__',\n",
       " '__setattr__',\n",
       " '__setstate__',\n",
       " '__sizeof__',\n",
       " '__str__',\n",
       " '__subclasshook__',\n",
       " '__weakref__',\n",
       " '_agg_filter',\n",
       " '_alpha',\n",
       " '_animated',\n",
       " '_axobservers',\n",
       " '_axstack',\n",
       " '_cachedRenderer',\n",
       " '_clipon',\n",
       " '_clippath',\n",
       " '_contains',\n",
       " '_dpi',\n",
       " '_gci',\n",
       " '_get_axes',\n",
       " '_get_dpi',\n",
       " '_gid',\n",
       " '_hold',\n",
       " '_label',\n",
       " '_make_key',\n",
       " '_mouseover',\n",
       " '_oid',\n",
       " '_path_effects',\n",
       " '_picker',\n",
       " '_prop_order',\n",
       " '_propobservers',\n",
       " '_rasterized',\n",
       " '_remove_method',\n",
       " '_repr_html_',\n",
       " '_set_artist_props',\n",
       " '_set_dpi',\n",
       " '_set_gc_clip',\n",
       " '_sketch',\n",
       " '_snap',\n",
       " '_stale',\n",
       " '_sticky_edges',\n",
       " '_suptitle',\n",
       " '_tight',\n",
       " '_tight_parameters',\n",
       " '_transform',\n",
       " '_transformSet',\n",
       " '_url',\n",
       " '_visible',\n",
       " 'add_axes',\n",
       " 'add_axobserver',\n",
       " 'add_callback',\n",
       " 'add_subplot',\n",
       " 'aname',\n",
       " 'artists',\n",
       " 'autofmt_xdate',\n",
       " 'axes',\n",
       " 'bbox',\n",
       " 'bbox_inches',\n",
       " 'callbacks',\n",
       " 'canvas',\n",
       " 'clear',\n",
       " 'clf',\n",
       " 'clipbox',\n",
       " 'colorbar',\n",
       " 'contains',\n",
       " 'convert_xunits',\n",
       " 'convert_yunits',\n",
       " 'delaxes',\n",
       " 'dpi',\n",
       " 'dpi_scale_trans',\n",
       " 'draw',\n",
       " 'draw_artist',\n",
       " 'eventson',\n",
       " 'figimage',\n",
       " 'figure',\n",
       " 'figurePatch',\n",
       " 'findobj',\n",
       " 'format_cursor_data',\n",
       " 'frameon',\n",
       " 'gca',\n",
       " 'get_agg_filter',\n",
       " 'get_alpha',\n",
       " 'get_animated',\n",
       " 'get_axes',\n",
       " 'get_children',\n",
       " 'get_clip_box',\n",
       " 'get_clip_on',\n",
       " 'get_clip_path',\n",
       " 'get_contains',\n",
       " 'get_cursor_data',\n",
       " 'get_default_bbox_extra_artists',\n",
       " 'get_dpi',\n",
       " 'get_edgecolor',\n",
       " 'get_facecolor',\n",
       " 'get_figheight',\n",
       " 'get_figure',\n",
       " 'get_figwidth',\n",
       " 'get_frameon',\n",
       " 'get_gid',\n",
       " 'get_label',\n",
       " 'get_path_effects',\n",
       " 'get_picker',\n",
       " 'get_rasterized',\n",
       " 'get_size_inches',\n",
       " 'get_sketch_params',\n",
       " 'get_snap',\n",
       " 'get_tight_layout',\n",
       " 'get_tightbbox',\n",
       " 'get_transform',\n",
       " 'get_transformed_clip_path_and_affine',\n",
       " 'get_url',\n",
       " 'get_visible',\n",
       " 'get_window_extent',\n",
       " 'get_zorder',\n",
       " 'ginput',\n",
       " 'have_units',\n",
       " 'hitlist',\n",
       " 'hold',\n",
       " 'images',\n",
       " 'is_figure_set',\n",
       " 'is_transform_set',\n",
       " 'legend',\n",
       " 'legends',\n",
       " 'lines',\n",
       " 'mouseover',\n",
       " 'number',\n",
       " 'patch',\n",
       " 'patches',\n",
       " 'pchanged',\n",
       " 'pick',\n",
       " 'pickable',\n",
       " 'properties',\n",
       " 'remove',\n",
       " 'remove_callback',\n",
       " 'savefig',\n",
       " 'sca',\n",
       " 'set',\n",
       " 'set_agg_filter',\n",
       " 'set_alpha',\n",
       " 'set_animated',\n",
       " 'set_axes',\n",
       " 'set_canvas',\n",
       " 'set_clip_box',\n",
       " 'set_clip_on',\n",
       " 'set_clip_path',\n",
       " 'set_contains',\n",
       " 'set_dpi',\n",
       " 'set_edgecolor',\n",
       " 'set_facecolor',\n",
       " 'set_figheight',\n",
       " 'set_figure',\n",
       " 'set_figwidth',\n",
       " 'set_frameon',\n",
       " 'set_gid',\n",
       " 'set_label',\n",
       " 'set_path_effects',\n",
       " 'set_picker',\n",
       " 'set_rasterized',\n",
       " 'set_size_inches',\n",
       " 'set_sketch_params',\n",
       " 'set_snap',\n",
       " 'set_tight_layout',\n",
       " 'set_transform',\n",
       " 'set_url',\n",
       " 'set_visible',\n",
       " 'set_zorder',\n",
       " 'show',\n",
       " 'stale',\n",
       " 'stale_callback',\n",
       " 'sticky_edges',\n",
       " 'subplotpars',\n",
       " 'subplots_adjust',\n",
       " 'suppressComposite',\n",
       " 'suptitle',\n",
       " 'text',\n",
       " 'texts',\n",
       " 'tight_layout',\n",
       " 'transFigure',\n",
       " 'update',\n",
       " 'update_from',\n",
       " 'waitforbuttonpress',\n",
       " 'zorder']"
      ]
     },
     "execution_count": 8,
     "metadata": {},
     "output_type": "execute_result"
    }
   ],
   "source": [
    "dir(fig)"
   ]
  },
  {
   "cell_type": "code",
   "execution_count": 9,
   "metadata": {},
   "outputs": [
    {
     "name": "stderr",
     "output_type": "stream",
     "text": [
      "/home/idwaker/Shire/Anaconda3/lib/python3.6/site-packages/matplotlib/figure.py:402: UserWarning: matplotlib is currently using a non-GUI backend, so cannot show the figure\n",
      "  \"matplotlib is currently using a non-GUI backend, \"\n"
     ]
    }
   ],
   "source": [
    "fig.show()"
   ]
  },
  {
   "cell_type": "code",
   "execution_count": 13,
   "metadata": {},
   "outputs": [
    {
     "ename": "ValueError",
     "evalue": "Integer subplot specification must be a three digit number.  Not 1",
     "output_type": "error",
     "traceback": [
      "\u001b[0;31m---------------------------------------------------------------------------\u001b[0m",
      "\u001b[0;31mValueError\u001b[0m                                Traceback (most recent call last)",
      "\u001b[0;32m<ipython-input-13-9b3a022f346e>\u001b[0m in \u001b[0;36m<module>\u001b[0;34m()\u001b[0m\n\u001b[1;32m      1\u001b[0m \u001b[0mfig\u001b[0m \u001b[0;34m=\u001b[0m \u001b[0mplt\u001b[0m\u001b[0;34m.\u001b[0m\u001b[0mfigure\u001b[0m\u001b[0;34m(\u001b[0m\u001b[0medgecolor\u001b[0m\u001b[0;34m=\u001b[0m\u001b[0;34m'blue'\u001b[0m\u001b[0;34m)\u001b[0m\u001b[0;34m\u001b[0m\u001b[0m\n\u001b[0;32m----> 2\u001b[0;31m \u001b[0mfig\u001b[0m\u001b[0;34m.\u001b[0m\u001b[0madd_subplot\u001b[0m\u001b[0;34m(\u001b[0m\u001b[0;36m1\u001b[0m\u001b[0;34m)\u001b[0m\u001b[0;34m\u001b[0m\u001b[0m\n\u001b[0m\u001b[1;32m      3\u001b[0m \u001b[0mplt\u001b[0m\u001b[0;34m.\u001b[0m\u001b[0mplot\u001b[0m\u001b[0;34m(\u001b[0m\u001b[0mnp\u001b[0m\u001b[0;34m.\u001b[0m\u001b[0mlinspace\u001b[0m\u001b[0;34m(\u001b[0m\u001b[0;36m1\u001b[0m\u001b[0;34m,\u001b[0m \u001b[0;36m99\u001b[0m\u001b[0;34m)\u001b[0m\u001b[0;34m)\u001b[0m\u001b[0;34m\u001b[0m\u001b[0m\n\u001b[1;32m      4\u001b[0m \u001b[0mfig\u001b[0m\u001b[0;34m.\u001b[0m\u001b[0mshow\u001b[0m\u001b[0;34m(\u001b[0m\u001b[0;34m)\u001b[0m\u001b[0;34m\u001b[0m\u001b[0m\n",
      "\u001b[0;32m/home/idwaker/Shire/Anaconda3/lib/python3.6/site-packages/matplotlib/figure.py\u001b[0m in \u001b[0;36madd_subplot\u001b[0;34m(self, *args, **kwargs)\u001b[0m\n\u001b[1;32m    986\u001b[0m                 raise ValueError(\"Integer subplot specification must \" +\n\u001b[1;32m    987\u001b[0m                                  \u001b[0;34m\"be a three digit number.  \"\u001b[0m \u001b[0;34m+\u001b[0m\u001b[0;34m\u001b[0m\u001b[0m\n\u001b[0;32m--> 988\u001b[0;31m                                  \"Not {n:d}\".format(n=len(args)))\n\u001b[0m\u001b[1;32m    989\u001b[0m \u001b[0;34m\u001b[0m\u001b[0m\n\u001b[1;32m    990\u001b[0m         \u001b[0;32mif\u001b[0m \u001b[0misinstance\u001b[0m\u001b[0;34m(\u001b[0m\u001b[0margs\u001b[0m\u001b[0;34m[\u001b[0m\u001b[0;36m0\u001b[0m\u001b[0;34m]\u001b[0m\u001b[0;34m,\u001b[0m \u001b[0mSubplotBase\u001b[0m\u001b[0;34m)\u001b[0m\u001b[0;34m:\u001b[0m\u001b[0;34m\u001b[0m\u001b[0m\n",
      "\u001b[0;31mValueError\u001b[0m: Integer subplot specification must be a three digit number.  Not 1"
     ]
    },
    {
     "data": {
      "text/plain": [
       "<matplotlib.figure.Figure at 0x7faf024548d0>"
      ]
     },
     "metadata": {},
     "output_type": "display_data"
    }
   ],
   "source": [
    "fig = plt.figure(edgecolor='blue')\n",
    "fig.add_subplot(1)\n",
    "plt.plot(np.linspace(1, 99))\n",
    "fig.show()"
   ]
  },
  {
   "cell_type": "code",
   "execution_count": 12,
   "metadata": {},
   "outputs": [
    {
     "name": "stdout",
     "output_type": "stream",
     "text": [
      " add_subplot(*args, **kwargs)\n",
      "\n",
      "Add a subplot.  Examples::\n",
      "\n",
      "    fig.add_subplot(111)\n",
      "\n",
      "    # equivalent but more general\n",
      "    fig.add_subplot(1,1,1)\n",
      "\n",
      "    # add subplot with red background\n",
      "    fig.add_subplot(212, facecolor='r')\n",
      "\n",
      "    # add a polar subplot\n",
      "    fig.add_subplot(111, projection='polar')\n",
      "\n",
      "    # add Subplot instance sub\n",
      "    fig.add_subplot(sub)\n",
      "\n",
      "*kwargs* are legal :class:`~matplotlib.axes.Axes` kwargs plus\n",
      "*projection*, which chooses a projection type for the axes.\n",
      "(For backward compatibility, *polar=True* may also be\n",
      "provided, which is equivalent to *projection='polar'*). Valid\n",
      "values for *projection* are: ['aitoff', 'hammer', 'lambert', 'mollweide', 'polar', 'rectilinear'].  Some of\n",
      "these projections\n",
      "support additional *kwargs*, which may be provided to\n",
      ":meth:`add_axes`.\n",
      "\n",
      "The :class:`~matplotlib.axes.Axes` instance will be returned.\n",
      "\n",
      "If the figure already has a subplot with key (*args*,\n",
      "*kwargs*) then it will simply make that subplot current and\n",
      "return it.\n",
      "\n",
      ".. seealso:: :meth:`~matplotlib.pyplot.subplot` for an\n",
      "   explanation of the args.\n",
      "\n",
      "The following kwargs are supported:\n",
      "\n",
      "  adjustable: [ 'box' | 'datalim' | 'box-forced'] \n",
      "  agg_filter: unknown\n",
      "  alpha: float (0.0 transparent through 1.0 opaque) \n",
      "  anchor: unknown\n",
      "  animated: [True | False] \n",
      "  aspect: unknown\n",
      "  autoscale_on: unknown\n",
      "  autoscalex_on: unknown\n",
      "  autoscaley_on: unknown\n",
      "  axes: an :class:`~matplotlib.axes.Axes` instance \n",
      "  axes_locator: unknown\n",
      "  axisbelow: [ *True* | *False* | 'line' ] \n",
      "  clip_box: a :class:`matplotlib.transforms.Bbox` instance \n",
      "  clip_on: [True | False] \n",
      "  clip_path: [ (:class:`~matplotlib.path.Path`, :class:`~matplotlib.transforms.Transform`) | :class:`~matplotlib.patches.Patch` | None ] \n",
      "  color_cycle: unknown\n",
      "  contains: a callable function \n",
      "  facecolor: unknown\n",
      "  fc: unknown\n",
      "  figure: unknown\n",
      "  frame_on: [ *True* | *False* ] \n",
      "  gid: an id string \n",
      "  label: string or anything printable with '%s' conversion. \n",
      "  navigate: [ *True* | *False* ] \n",
      "  navigate_mode: unknown\n",
      "  path_effects: unknown\n",
      "  picker: [None|float|boolean|callable] \n",
      "  position: unknown\n",
      "  rasterization_zorder: unknown\n",
      "  rasterized: [True | False | None] \n",
      "  sketch_params: unknown\n",
      "  snap: unknown\n",
      "  title: unknown\n",
      "  transform: :class:`~matplotlib.transforms.Transform` instance \n",
      "  url: a url string \n",
      "  visible: [True | False] \n",
      "  xbound: unknown\n",
      "  xlabel: unknown\n",
      "  xlim: unknown\n",
      "  xmargin: unknown\n",
      "  xscale: ['linear' | 'log' | 'logit' | 'symlog']\n",
      "  xticklabels: sequence of strings\n",
      "  xticks: sequence of floats \n",
      "  ybound: unknown\n",
      "  ylabel: unknown\n",
      "  ylim: unknown\n",
      "  ymargin: unknown\n",
      "  yscale: ['linear' | 'log' | 'logit' | 'symlog']\n",
      "  yticklabels: sequence of strings\n",
      "  yticks: sequence of floats\n",
      "  zorder: any number \n"
     ]
    }
   ],
   "source": [
    "np.info(fig.add_subplot)"
   ]
  },
  {
   "cell_type": "code",
   "execution_count": 17,
   "metadata": {
    "collapsed": true
   },
   "outputs": [],
   "source": [
    "arr = np.linspace(-np.pi, np.pi, num=50)"
   ]
  },
  {
   "cell_type": "code",
   "execution_count": 18,
   "metadata": {},
   "outputs": [
    {
     "data": {
      "image/png": "[encoded data removed]",
      "text/plain": [
       "<matplotlib.figure.Figure at 0x7faf02292198>"
      ]
     },
     "metadata": {},
     "output_type": "display_data"
    }
   ],
   "source": [
    "plt.plot(arr, np.sin(arr))\n",
    "plt.plot(arr, np.cos(arr))\n",
    "plt.show()"
   ]
  },
  {
   "cell_type": "code",
   "execution_count": 16,
   "metadata": {},
   "outputs": [
    {
     "name": "stdout",
     "output_type": "stream",
     "text": [
      " plot(*args, **kwargs)\n",
      "\n",
      "Plot lines and/or markers to the\n",
      ":class:`~matplotlib.axes.Axes`.  *args* is a variable length\n",
      "argument, allowing for multiple *x*, *y* pairs with an\n",
      "optional format string.  For example, each of the following is\n",
      "legal::\n",
      "\n",
      "    plot(x, y)        # plot x and y using default line style and color\n",
      "    plot(x, y, 'bo')  # plot x and y using blue circle markers\n",
      "    plot(y)           # plot y using x as index array 0..N-1\n",
      "    plot(y, 'r+')     # ditto, but with red plusses\n",
      "\n",
      "If *x* and/or *y* is 2-dimensional, then the corresponding columns\n",
      "will be plotted.\n",
      "\n",
      "If used with labeled data, make sure that the color spec is not\n",
      "included as an element in data, as otherwise the last case\n",
      "``plot(\"v\",\"r\", data={\"v\":..., \"r\":...)``\n",
      "can be interpreted as the first case which would do ``plot(v, r)``\n",
      "using the default line style and color.\n",
      "\n",
      "If not used with labeled data (i.e., without a data argument),\n",
      "an arbitrary number of *x*, *y*, *fmt* groups can be specified, as in::\n",
      "\n",
      "    a.plot(x1, y1, 'g^', x2, y2, 'g-')\n",
      "\n",
      "Return value is a list of lines that were added.\n",
      "\n",
      "By default, each line is assigned a different style specified by a\n",
      "'style cycle'.  To change this behavior, you can edit the\n",
      "axes.prop_cycle rcParam.\n",
      "\n",
      "The following format string characters are accepted to control\n",
      "the line style or marker:\n",
      "\n",
      "================    ===============================\n",
      "character           description\n",
      "================    ===============================\n",
      "``'-'``             solid line style\n",
      "``'--'``            dashed line style\n",
      "``'-.'``            dash-dot line style\n",
      "``':'``             dotted line style\n",
      "``'.'``             point marker\n",
      "``','``             pixel marker\n",
      "``'o'``             circle marker\n",
      "``'v'``             triangle_down marker\n",
      "``'^'``             triangle_up marker\n",
      "``'<'``             triangle_left marker\n",
      "``'>'``             triangle_right marker\n",
      "``'1'``             tri_down marker\n",
      "``'2'``             tri_up marker\n",
      "``'3'``             tri_left marker\n",
      "``'4'``             tri_right marker\n",
      "``'s'``             square marker\n",
      "``'p'``             pentagon marker\n",
      "``'*'``             star marker\n",
      "``'h'``             hexagon1 marker\n",
      "``'H'``             hexagon2 marker\n",
      "``'+'``             plus marker\n",
      "``'x'``             x marker\n",
      "``'D'``             diamond marker\n",
      "``'d'``             thin_diamond marker\n",
      "``'|'``             vline marker\n",
      "``'_'``             hline marker\n",
      "================    ===============================\n",
      "\n",
      "\n",
      "The following color abbreviations are supported:\n",
      "\n",
      "==========  ========\n",
      "character   color\n",
      "==========  ========\n",
      "'b'         blue\n",
      "'g'         green\n",
      "'r'         red\n",
      "'c'         cyan\n",
      "'m'         magenta\n",
      "'y'         yellow\n",
      "'k'         black\n",
      "'w'         white\n",
      "==========  ========\n",
      "\n",
      "In addition, you can specify colors in many weird and\n",
      "wonderful ways, including full names (``'green'``), hex\n",
      "strings (``'#008000'``), RGB or RGBA tuples (``(0,1,0,1)``) or\n",
      "grayscale intensities as a string (``'0.8'``).  Of these, the\n",
      "string specifications can be used in place of a ``fmt`` group,\n",
      "but the tuple forms can be used only as ``kwargs``.\n",
      "\n",
      "Line styles and colors are combined in a single format string, as in\n",
      "``'bo'`` for blue circles.\n",
      "\n",
      "The *kwargs* can be used to set line properties (any property that has\n",
      "a ``set_*`` method).  You can use this to set a line label (for auto\n",
      "legends), linewidth, anitialising, marker face color, etc.  Here is an\n",
      "example::\n",
      "\n",
      "    plot([1,2,3], [1,2,3], 'go-', label='line 1', linewidth=2)\n",
      "    plot([1,2,3], [1,4,9], 'rs',  label='line 2')\n",
      "    axis([0, 4, 0, 10])\n",
      "    legend()\n",
      "\n",
      "If you make multiple lines with one plot command, the kwargs\n",
      "apply to all those lines, e.g.::\n",
      "\n",
      "    plot(x1, y1, x2, y2, antialiased=False)\n",
      "\n",
      "Neither line will be antialiased.\n",
      "\n",
      "You do not need to use format strings, which are just\n",
      "abbreviations.  All of the line properties can be controlled\n",
      "by keyword arguments.  For example, you can set the color,\n",
      "marker, linestyle, and markercolor with::\n",
      "\n",
      "    plot(x, y, color='green', linestyle='dashed', marker='o',\n",
      "         markerfacecolor='blue', markersize=12).\n",
      "\n",
      "See :class:`~matplotlib.lines.Line2D` for details.\n",
      "\n",
      "The kwargs are :class:`~matplotlib.lines.Line2D` properties:\n",
      "\n",
      "  agg_filter: unknown\n",
      "  alpha: float (0.0 transparent through 1.0 opaque) \n",
      "  animated: [True | False] \n",
      "  antialiased or aa: [True | False] \n",
      "  axes: an :class:`~matplotlib.axes.Axes` instance \n",
      "  clip_box: a :class:`matplotlib.transforms.Bbox` instance \n",
      "  clip_on: [True | False] \n",
      "  clip_path: [ (:class:`~matplotlib.path.Path`, :class:`~matplotlib.transforms.Transform`) | :class:`~matplotlib.patches.Patch` | None ] \n",
      "  color or c: any matplotlib color \n",
      "  contains: a callable function \n",
      "  dash_capstyle: ['butt' | 'round' | 'projecting'] \n",
      "  dash_joinstyle: ['miter' | 'round' | 'bevel'] \n",
      "  dashes: sequence of on/off ink in points \n",
      "  drawstyle: ['default' | 'steps' | 'steps-pre' | 'steps-mid' | 'steps-post'] \n",
      "  figure: a :class:`matplotlib.figure.Figure` instance \n",
      "  fillstyle: ['full' | 'left' | 'right' | 'bottom' | 'top' | 'none'] \n",
      "  gid: an id string \n",
      "  label: string or anything printable with '%s' conversion. \n",
      "  linestyle or ls: ['solid' | 'dashed', 'dashdot', 'dotted' | (offset, on-off-dash-seq) | ``'-'`` | ``'--'`` | ``'-.'`` | ``':'`` | ``'None'`` | ``' '`` | ``''``]\n",
      "  linewidth or lw: float value in points \n",
      "  marker: :mod:`A valid marker style <matplotlib.markers>`\n",
      "  markeredgecolor or mec: any matplotlib color \n",
      "  markeredgewidth or mew: float value in points \n",
      "  markerfacecolor or mfc: any matplotlib color \n",
      "  markerfacecoloralt or mfcalt: any matplotlib color \n",
      "  markersize or ms: float \n",
      "  markevery: [None | int | length-2 tuple of int | slice | list/array of int | float | length-2 tuple of float]\n",
      "  path_effects: unknown\n",
      "  picker: float distance in points or callable pick function ``fn(artist, event)`` \n",
      "  pickradius: float distance in points \n",
      "  rasterized: [True | False | None] \n",
      "  sketch_params: unknown\n",
      "  snap: unknown\n",
      "  solid_capstyle: ['butt' | 'round' |  'projecting'] \n",
      "  solid_joinstyle: ['miter' | 'round' | 'bevel'] \n",
      "  transform: a :class:`matplotlib.transforms.Transform` instance \n",
      "  url: a url string \n",
      "  visible: [True | False] \n",
      "  xdata: 1D array \n",
      "  ydata: 1D array \n",
      "  zorder: any number \n",
      "\n",
      "kwargs *scalex* and *scaley*, if defined, are passed on to\n",
      ":meth:`~matplotlib.axes.Axes.autoscale_view` to determine\n",
      "whether the *x* and *y* axes are autoscaled; the default is\n",
      "*True*.\n",
      "\n",
      ".. note::\n",
      "    In addition to the above described arguments, this function can take a\n",
      "    **data** keyword argument. If such a **data** argument is given, the\n",
      "    following arguments are replaced by **data[<arg>]**:\n",
      "\n",
      "    * All arguments with the following names: 'x', 'y'.\n"
     ]
    }
   ],
   "source": [
    "np.info(plt.plot)"
   ]
  },
  {
   "cell_type": "code",
   "execution_count": 21,
   "metadata": {},
   "outputs": [
    {
     "data": {
      "image/png": "[encoded data removed]",
      "text/plain": [
       "<matplotlib.figure.Figure at 0x7faf02139780>"
      ]
     },
     "metadata": {},
     "output_type": "display_data"
    }
   ],
   "source": [
    "plt.plot(arr, np.sin(arr), color='c', linewidth=2)\n",
    "plt.plot(arr, np.cos(arr), color='m', linewidth=2)\n",
    "plt.show()"
   ]
  },
  {
   "cell_type": "code",
   "execution_count": 22,
   "metadata": {},
   "outputs": [
    {
     "data": {
      "text/plain": [
       "[<matplotlib.lines.Line2D at 0x7faf02049f28>]"
      ]
     },
     "execution_count": 22,
     "metadata": {},
     "output_type": "execute_result"
    },
    {
     "data": {
      "image/png": "[encoded data removed]",
      "text/plain": [
       "<matplotlib.figure.Figure at 0x7faf02144c18>"
      ]
     },
     "metadata": {},
     "output_type": "display_data"
    }
   ],
   "source": [
    "plt.plot(arr, linestyle='--', linewidth=2)"
   ]
  },
  {
   "cell_type": "code",
   "execution_count": 24,
   "metadata": {},
   "outputs": [
    {
     "data": {
      "text/plain": [
       "[<matplotlib.lines.Line2D at 0x7faf02144780>]"
      ]
     },
     "execution_count": 24,
     "metadata": {},
     "output_type": "execute_result"
    },
    {
     "data": {
      "image/png": "[encoded data removed]",
      "text/plain": [
       "<matplotlib.figure.Figure at 0x7faf01f7e0b8>"
      ]
     },
     "metadata": {},
     "output_type": "display_data"
    }
   ],
   "source": [
    "plt.plot(np.linspace(0, 100, 10), linestyle='--', marker='o', linewidth=2)"
   ]
  },
  {
   "cell_type": "code",
   "execution_count": 25,
   "metadata": {},
   "outputs": [
    {
     "data": {
      "text/plain": [
       "[<matplotlib.lines.Line2D at 0x7faf022098d0>]"
      ]
     },
     "execution_count": 25,
     "metadata": {},
     "output_type": "execute_result"
    },
    {
     "data": {
      "image/png": "[encoded data removed]",
      "text/plain": [
       "<matplotlib.figure.Figure at 0x7faf021978d0>"
      ]
     },
     "metadata": {},
     "output_type": "display_data"
    }
   ],
   "source": [
    "plt.plot(np.linspace(0, 100, 10), linestyle='--', marker='x', linewidth=2)"
   ]
  },
  {
   "cell_type": "code",
   "execution_count": 31,
   "metadata": {},
   "outputs": [
    {
     "data": {
      "image/png": "[encoded data removed]",
      "text/plain": [
       "<matplotlib.figure.Figure at 0x7faf01df7cf8>"
      ]
     },
     "metadata": {},
     "output_type": "display_data"
    }
   ],
   "source": [
    "plt.plot(arr, np.sin(arr), color='c', linewidth=2)\n",
    "\n",
    "plt.xlim(-3.5, 3.5)\n",
    "plt.ylim(-1.5, 1.5)\n",
    "plt.show()"
   ]
  },
  {
   "cell_type": "code",
   "execution_count": 34,
   "metadata": {},
   "outputs": [
    {
     "data": {
      "image/png": "[encoded data removed]",
      "text/plain": [
       "<matplotlib.figure.Figure at 0x7faf01c69048>"
      ]
     },
     "metadata": {},
     "output_type": "display_data"
    }
   ],
   "source": [
    "y_sin = np.sin(arr)\n",
    "plt.plot(arr, y_sin, color='c', linewidth=2)\n",
    "\n",
    "plt.xlim(arr.min()*1.1, arr.max()*1.1)\n",
    "plt.ylim(y_sin.min()*1.1, y_sin.max()*1.1)\n",
    "plt.show()"
   ]
  },
  {
   "cell_type": "code",
   "execution_count": 35,
   "metadata": {},
   "outputs": [
    {
     "data": {
      "image/png": "[encoded data removed]",
      "text/plain": [
       "<matplotlib.figure.Figure at 0x7faf01bdc400>"
      ]
     },
     "metadata": {},
     "output_type": "display_data"
    }
   ],
   "source": [
    "y_sin = np.sin(arr)\n",
    "plt.plot(arr, y_sin, color='c', linewidth=2)\n",
    "\n",
    "plt.xlim(arr.min()*1.1, arr.max()*1.1)\n",
    "plt.ylim(y_sin.min()*1.1, y_sin.max()*1.1)\n",
    "\n",
    "plt.xticks([-np.pi, -np.pi/2, 0, np.pi/2, np.pi])\n",
    "plt.show()"
   ]
  },
  {
   "cell_type": "code",
   "execution_count": 39,
   "metadata": {},
   "outputs": [
    {
     "data": {
      "image/png": "[encoded data removed]",
      "text/plain": [
       "<matplotlib.figure.Figure at 0x7faf01f149b0>"
      ]
     },
     "metadata": {},
     "output_type": "display_data"
    }
   ],
   "source": [
    "y_sin = np.sin(arr)\n",
    "plt.plot(arr, y_sin, color='c', linewidth=2)\n",
    "\n",
    "plt.xlim(arr.min()*1.1, arr.max()*1.1)\n",
    "plt.ylim(y_sin.min()*1.1, y_sin.max()*1.1)\n",
    "\n",
    "plt.xticks([-np.pi, -np.pi/2, 0, np.pi/2, np.pi], \n",
    "           [r'$-\\pi$', r'$-\\pi/2$', r'$0$', r'$\\pi/2$', r'$\\pi$'])\n",
    "plt.show()"
   ]
  },
  {
   "cell_type": "code",
   "execution_count": 37,
   "metadata": {},
   "outputs": [
    {
     "name": "stdout",
     "output_type": "stream",
     "text": [
      " xticks(*args, **kwargs)\n",
      "\n",
      "Get or set the *x*-limits of the current tick locations and labels.\n",
      "\n",
      "::\n",
      "\n",
      "  # return locs, labels where locs is an array of tick locations and\n",
      "  # labels is an array of tick labels.\n",
      "  locs, labels = xticks()\n",
      "\n",
      "  # set the locations of the xticks\n",
      "  xticks( arange(6) )\n",
      "\n",
      "  # set the locations and labels of the xticks\n",
      "  xticks( arange(5), ('Tom', 'Dick', 'Harry', 'Sally', 'Sue') )\n",
      "\n",
      "The keyword args, if any, are :class:`~matplotlib.text.Text`\n",
      "properties. For example, to rotate long labels::\n",
      "\n",
      "  xticks( arange(12), calendar.month_name[1:13], rotation=17 )\n"
     ]
    }
   ],
   "source": [
    "np.info(plt.xticks)"
   ]
  },
  {
   "cell_type": "code",
   "execution_count": 45,
   "metadata": {},
   "outputs": [
    {
     "data": {
      "image/png": "[encoded data removed]",
      "text/plain": [
       "<matplotlib.figure.Figure at 0x7faf024a5cc0>"
      ]
     },
     "metadata": {},
     "output_type": "display_data"
    }
   ],
   "source": [
    "y_sin = np.sin(arr)\n",
    "plt.plot(arr, y_sin, color='c', linewidth=2, label=\"sin(x)\")\n",
    "\n",
    "plt.xlim(arr.min()*1.1, arr.max()*1.1)\n",
    "plt.ylim(y_sin.min()*1.1, y_sin.max()*1.1)\n",
    "\n",
    "plt.xticks([-np.pi, -np.pi/2, 0, np.pi/2, np.pi], \n",
    "           [r'$-\\pi$', r'$-\\pi/2$', r'$0$', r'$\\pi/2$', r'$\\pi$'])\n",
    "plt.yticks([-1, 0, 1])\n",
    "plt.legend()\n",
    "plt.show()"
   ]
  },
  {
   "cell_type": "code",
   "execution_count": 40,
   "metadata": {},
   "outputs": [
    {
     "name": "stdout",
     "output_type": "stream",
     "text": [
      " legend(*args, **kwargs)\n",
      "\n",
      "Places a legend on the axes.\n",
      "\n",
      "To make a legend for lines which already exist on the axes\n",
      "(via plot for instance), simply call this function with an iterable\n",
      "of strings, one for each legend item. For example::\n",
      "\n",
      "    ax.plot([1, 2, 3])\n",
      "    ax.legend(['A simple line'])\n",
      "\n",
      "However, in order to keep the \"label\" and the legend element\n",
      "instance together, it is preferable to specify the label either at\n",
      "artist creation, or by calling the\n",
      ":meth:`~matplotlib.artist.Artist.set_label` method on the artist::\n",
      "\n",
      "    line, = ax.plot([1, 2, 3], label='Inline label')\n",
      "    # Overwrite the label by calling the method.\n",
      "    line.set_label('Label via method')\n",
      "    ax.legend()\n",
      "\n",
      "Specific lines can be excluded from the automatic legend element\n",
      "selection by defining a label starting with an underscore.\n",
      "This is default for all artists, so calling :meth:`legend` without\n",
      "any arguments and without setting the labels manually will result in\n",
      "no legend being drawn.\n",
      "\n",
      "For full control of which artists have a legend entry, it is possible\n",
      "to pass an iterable of legend artists followed by an iterable of\n",
      "legend labels respectively::\n",
      "\n",
      "   legend((line1, line2, line3), ('label1', 'label2', 'label3'))\n",
      "\n",
      "Parameters\n",
      "----------\n",
      "loc : int or string or pair of floats, default: 'upper right'\n",
      "    The location of the legend. Possible codes are:\n",
      "\n",
      "        ===============   =============\n",
      "        Location String   Location Code\n",
      "        ===============   =============\n",
      "        'best'            0\n",
      "        'upper right'     1\n",
      "        'upper left'      2\n",
      "        'lower left'      3\n",
      "        'lower right'     4\n",
      "        'right'           5\n",
      "        'center left'     6\n",
      "        'center right'    7\n",
      "        'lower center'    8\n",
      "        'upper center'    9\n",
      "        'center'          10\n",
      "        ===============   =============\n",
      "\n",
      "\n",
      "    Alternatively can be a 2-tuple giving ``x, y`` of the lower-left\n",
      "    corner of the legend in axes coordinates (in which case\n",
      "    ``bbox_to_anchor`` will be ignored).\n",
      "\n",
      "bbox_to_anchor : :class:`matplotlib.transforms.BboxBase` instance or tuple of floats\n",
      "    Specify any arbitrary location for the legend in `bbox_transform`\n",
      "    coordinates (default Axes coordinates).\n",
      "\n",
      "    For example, to put the legend's upper right hand corner in the\n",
      "    center of the axes the following keywords can be used::\n",
      "\n",
      "       loc='upper right', bbox_to_anchor=(0.5, 0.5)\n",
      "\n",
      "ncol : integer\n",
      "    The number of columns that the legend has. Default is 1.\n",
      "\n",
      "prop : None or :class:`matplotlib.font_manager.FontProperties` or dict\n",
      "    The font properties of the legend. If None (default), the current\n",
      "    :data:`matplotlib.rcParams` will be used.\n",
      "\n",
      "fontsize : int or float or {'xx-small', 'x-small', 'small', 'medium', 'large', 'x-large', 'xx-large'}\n",
      "    Controls the font size of the legend. If the value is numeric the\n",
      "    size will be the absolute font size in points. String values are\n",
      "    relative to the current default font size. This argument is only\n",
      "    used if `prop` is not specified.\n",
      "\n",
      "numpoints : None or int\n",
      "    The number of marker points in the legend when creating a legend\n",
      "    entry for a line/:class:`matplotlib.lines.Line2D`.\n",
      "    Default is ``None`` which will take the value from the\n",
      "    ``legend.numpoints`` :data:`rcParam<matplotlib.rcParams>`.\n",
      "\n",
      "scatterpoints : None or int\n",
      "    The number of marker points in the legend when creating a legend\n",
      "    entry for a scatter plot/\n",
      "    :class:`matplotlib.collections.PathCollection`.\n",
      "    Default is ``None`` which will take the value from the\n",
      "    ``legend.scatterpoints`` :data:`rcParam<matplotlib.rcParams>`.\n",
      "\n",
      "scatteryoffsets : iterable of floats\n",
      "    The vertical offset (relative to the font size) for the markers\n",
      "    created for a scatter plot legend entry. 0.0 is at the base the\n",
      "    legend text, and 1.0 is at the top. To draw all markers at the\n",
      "    same height, set to ``[0.5]``. Default ``[0.375, 0.5, 0.3125]``.\n",
      "\n",
      "markerscale : None or int or float\n",
      "    The relative size of legend markers compared with the originally\n",
      "    drawn ones. Default is ``None`` which will take the value from\n",
      "    the ``legend.markerscale`` :data:`rcParam <matplotlib.rcParams>`.\n",
      "\n",
      "markerfirst : bool\n",
      "    if *True*, legend marker is placed to the left of the legend label\n",
      "    if *False*, legend marker is placed to the right of the legend\n",
      "    label\n",
      "\n",
      "frameon : None or bool\n",
      "    Control whether the legend should be drawn on a patch (frame).\n",
      "    Default is ``None`` which will take the value from the\n",
      "    ``legend.frameon`` :data:`rcParam<matplotlib.rcParams>`.\n",
      "\n",
      "fancybox : None or bool\n",
      "    Control whether round edges should be enabled around\n",
      "    the :class:`~matplotlib.patches.FancyBboxPatch` which\n",
      "    makes up the legend's background.\n",
      "    Default is ``None`` which will take the value from the\n",
      "    ``legend.fancybox`` :data:`rcParam<matplotlib.rcParams>`.\n",
      "\n",
      "shadow : None or bool\n",
      "    Control whether to draw a shadow behind the legend.\n",
      "    Default is ``None`` which will take the value from the\n",
      "    ``legend.shadow`` :data:`rcParam<matplotlib.rcParams>`.\n",
      "\n",
      "framealpha : None or float\n",
      "    Control the alpha transparency of the legend's background.\n",
      "    Default is ``None`` which will take the value from the\n",
      "    ``legend.framealpha`` :data:`rcParam<matplotlib.rcParams>`.\n",
      "\n",
      "facecolor : None or \"inherit\" or a color spec\n",
      "    Control the legend's background color.\n",
      "    Default is ``None`` which will take the value from the\n",
      "    ``legend.facecolor`` :data:`rcParam<matplotlib.rcParams>`.\n",
      "    If ``\"inherit\"``, it will take the ``axes.facecolor``\n",
      "    :data:`rcParam<matplotlib.rcParams>`.\n",
      "\n",
      "edgecolor : None or \"inherit\" or a color spec\n",
      "    Control the legend's background patch edge color.\n",
      "    Default is ``None`` which will take the value from the\n",
      "    ``legend.edgecolor`` :data:`rcParam<matplotlib.rcParams>`.\n",
      "    If ``\"inherit\"``, it will take the ``axes.edgecolor``\n",
      "    :data:`rcParam<matplotlib.rcParams>`.\n",
      "\n",
      "mode : {\"expand\", None}\n",
      "    If `mode` is set to ``\"expand\"`` the legend will be horizontally\n",
      "    expanded to fill the axes area (or `bbox_to_anchor` if defines\n",
      "    the legend's size).\n",
      "\n",
      "bbox_transform : None or :class:`matplotlib.transforms.Transform`\n",
      "    The transform for the bounding box (`bbox_to_anchor`). For a value\n",
      "    of ``None`` (default) the Axes'\n",
      "    :data:`~matplotlib.axes.Axes.transAxes` transform will be used.\n",
      "\n",
      "title : str or None\n",
      "    The legend's title. Default is no title (``None``).\n",
      "\n",
      "borderpad : float or None\n",
      "    The fractional whitespace inside the legend border.\n",
      "    Measured in font-size units.\n",
      "    Default is ``None`` which will take the value from the\n",
      "    ``legend.borderpad`` :data:`rcParam<matplotlib.rcParams>`.\n",
      "\n",
      "labelspacing : float or None\n",
      "    The vertical space between the legend entries.\n",
      "    Measured in font-size units.\n",
      "    Default is ``None`` which will take the value from the\n",
      "    ``legend.labelspacing`` :data:`rcParam<matplotlib.rcParams>`.\n",
      "\n",
      "handlelength : float or None\n",
      "    The length of the legend handles.\n",
      "    Measured in font-size units.\n",
      "    Default is ``None`` which will take the value from the\n",
      "    ``legend.handlelength`` :data:`rcParam<matplotlib.rcParams>`.\n",
      "\n",
      "handletextpad : float or None\n",
      "    The pad between the legend handle and text.\n",
      "    Measured in font-size units.\n",
      "    Default is ``None`` which will take the value from the\n",
      "    ``legend.handletextpad`` :data:`rcParam<matplotlib.rcParams>`.\n",
      "\n",
      "borderaxespad : float or None\n",
      "    The pad between the axes and legend border.\n",
      "    Measured in font-size units.\n",
      "    Default is ``None`` which will take the value from the\n",
      "    ``legend.borderaxespad`` :data:`rcParam<matplotlib.rcParams>`.\n",
      "\n",
      "columnspacing : float or None\n",
      "    The spacing between columns.\n",
      "    Measured in font-size units.\n",
      "    Default is ``None`` which will take the value from the\n",
      "    ``legend.columnspacing`` :data:`rcParam<matplotlib.rcParams>`.\n",
      "\n",
      "handler_map : dict or None\n",
      "    The custom dictionary mapping instances or types to a legend\n",
      "    handler. This `handler_map` updates the default handler map\n",
      "    found at :func:`matplotlib.legend.Legend.get_legend_handler_map`.\n",
      "\n",
      "Notes\n",
      "-----\n",
      "\n",
      "Not all kinds of artist are supported by the legend command.\n",
      "See :ref:`plotting-guide-legend` for details.\n",
      "\n",
      "Examples\n",
      "--------\n",
      "\n",
      ".. plot:: mpl_examples/api/legend_demo.py\n"
     ]
    }
   ],
   "source": [
    "np.info(plt.legend)"
   ]
  },
  {
   "cell_type": "code",
   "execution_count": 48,
   "metadata": {},
   "outputs": [
    {
     "data": {
      "image/png": "[encoded data removed]",
      "text/plain": [
       "<matplotlib.figure.Figure at 0x7faf01d98e80>"
      ]
     },
     "metadata": {},
     "output_type": "display_data"
    }
   ],
   "source": [
    "y_sin = np.sin(arr)\n",
    "y_cos = np.cos(arr)\n",
    "plt.plot(arr, y_sin, color='c', linewidth=2, label=\"sin(x)\")\n",
    "plt.plot(arr, y_cos, color='m', linewidth=2, label=\"cos(x)\")\n",
    "\n",
    "plt.xlim(arr.min()*1.1, arr.max()*1.1)\n",
    "plt.ylim(y_sin.min()*1.1, y_sin.max()*1.1)\n",
    "\n",
    "plt.xticks([-np.pi, -np.pi/2, 0, np.pi/2, np.pi], \n",
    "           [r'$-\\pi$', r'$-\\pi/2$', r'$0$', r'$\\pi/2$', r'$\\pi$'])\n",
    "plt.yticks([-1, 0, 1])\n",
    "plt.legend(loc='lower right', frameon=False, fontsize='large')\n",
    "plt.show()"
   ]
  },
  {
   "cell_type": "code",
   "execution_count": 53,
   "metadata": {},
   "outputs": [
    {
     "data": {
      "image/png": "[encoded data removed]",
      "text/plain": [
       "<matplotlib.figure.Figure at 0x7faf0212fb00>"
      ]
     },
     "metadata": {},
     "output_type": "display_data"
    }
   ],
   "source": [
    "plt.figure(1)\n",
    "plt.plot(np.linspace(0, 100, num=10), label='Hello')\n",
    "plt.show()"
   ]
  },
  {
   "cell_type": "code",
   "execution_count": 56,
   "metadata": {},
   "outputs": [
    {
     "name": "stdout",
     "output_type": "stream",
     "text": [
      " subplot(*args, **kwargs)\n",
      "\n",
      "Return a subplot axes positioned by the given grid definition.\n",
      "\n",
      "Typical call signature::\n",
      "\n",
      "  subplot(nrows, ncols, plot_number)\n",
      "\n",
      "Where *nrows* and *ncols* are used to notionally split the figure\n",
      "into ``nrows * ncols`` sub-axes, and *plot_number* is used to identify\n",
      "the particular subplot that this function is to create within the notional\n",
      "grid. *plot_number* starts at 1, increments across rows first and has a\n",
      "maximum of ``nrows * ncols``.\n",
      "\n",
      "In the case when *nrows*, *ncols* and *plot_number* are all less than 10,\n",
      "a convenience exists, such that the a 3 digit number can be given instead,\n",
      "where the hundreds represent *nrows*, the tens represent *ncols* and the\n",
      "units represent *plot_number*. For instance::\n",
      "\n",
      "  subplot(211)\n",
      "\n",
      "produces a subaxes in a figure which represents the top plot (i.e. the\n",
      "first) in a 2 row by 1 column notional grid (no grid actually exists,\n",
      "but conceptually this is how the returned subplot has been positioned).\n",
      "\n",
      ".. note::\n",
      "\n",
      "   Creating a new subplot with a position which is entirely inside a\n",
      "   pre-existing axes will trigger the larger axes to be deleted::\n",
      "\n",
      "      import matplotlib.pyplot as plt\n",
      "      # plot a line, implicitly creating a subplot(111)\n",
      "      plt.plot([1,2,3])\n",
      "      # now create a subplot which represents the top plot of a grid\n",
      "      # with 2 rows and 1 column. Since this subplot will overlap the\n",
      "      # first, the plot (and its axes) previously created, will be removed\n",
      "      plt.subplot(211)\n",
      "      plt.plot(range(12))\n",
      "      plt.subplot(212, facecolor='y') # creates 2nd subplot with yellow background\n",
      "\n",
      "   If you do not want this behavior, use the\n",
      "   :meth:`~matplotlib.figure.Figure.add_subplot` method or the\n",
      "   :func:`~matplotlib.pyplot.axes` function instead.\n",
      "\n",
      "Keyword arguments:\n",
      "\n",
      "  *facecolor*:\n",
      "    The background color of the subplot, which can be any valid\n",
      "    color specifier.  See :mod:`matplotlib.colors` for more\n",
      "    information.\n",
      "\n",
      "  *polar*:\n",
      "    A boolean flag indicating whether the subplot plot should be\n",
      "    a polar projection.  Defaults to *False*.\n",
      "\n",
      "  *projection*:\n",
      "    A string giving the name of a custom projection to be used\n",
      "    for the subplot. This projection must have been previously\n",
      "    registered. See :mod:`matplotlib.projections`.\n",
      "\n",
      ".. seealso::\n",
      "\n",
      "    :func:`~matplotlib.pyplot.axes`\n",
      "        For additional information on :func:`axes` and\n",
      "        :func:`subplot` keyword arguments.\n",
      "\n",
      "    :file:`examples/pie_and_polar_charts/polar_scatter_demo.py`\n",
      "        For an example\n",
      "\n",
      "**Example:**\n",
      "\n",
      ".. plot:: mpl_examples/subplots_axes_and_figures/subplot_demo.py\n"
     ]
    }
   ],
   "source": [
    "np.info(plt.subplot)"
   ]
  },
  {
   "cell_type": "code",
   "execution_count": 57,
   "metadata": {},
   "outputs": [
    {
     "data": {
      "image/png": "[encoded data removed]",
      "text/plain": [
       "<matplotlib.figure.Figure at 0x7faf01ca55c0>"
      ]
     },
     "metadata": {},
     "output_type": "display_data"
    }
   ],
   "source": [
    "plt.figure(1)\n",
    "# number of rows, number of columns, number of plot\n",
    "plt.subplot(211) # plt.subplot(2, 1, 1)\n",
    "plt.plot(arr, y_sin, color='c', linewidth=2, label=\"sin(x)\")\n",
    "plt.subplot(212)\n",
    "plt.plot(arr, y_cos, color='m', linewidth=2, label=\"cos(x)\")\n",
    "plt.show()"
   ]
  },
  {
   "cell_type": "code",
   "execution_count": 58,
   "metadata": {},
   "outputs": [
    {
     "data": {
      "image/png": "[encoded data removed]",
      "text/plain": [
       "<matplotlib.figure.Figure at 0x7faf01ba2710>"
      ]
     },
     "metadata": {},
     "output_type": "display_data"
    }
   ],
   "source": [
    "plt.figure(1)\n",
    "# number of rows, number of columns, number of plot\n",
    "plt.subplot(2, 2, 2) # plt.subplot(2, 1, 1)\n",
    "plt.plot(arr, y_sin, color='c', linewidth=2, label=\"sin(x)\")\n",
    "plt.subplot(2, 2, 3)\n",
    "plt.plot(arr, y_cos, color='m', linewidth=2, label=\"cos(x)\")\n",
    "plt.show()"
   ]
  },
  {
   "cell_type": "code",
   "execution_count": null,
   "metadata": {
    "collapsed": true
   },
   "outputs": [],
   "source": []
  },
  {
   "cell_type": "code",
   "execution_count": null,
   "metadata": {
    "collapsed": true
   },
   "outputs": [],
   "source": [
    "y_sin = np.sin(arr)\n",
    "y_cos = np.cos(arr)\n",
    "plt.plot(arr, y_sin, color='c', linewidth=2, label=\"sin(x)\")\n",
    "plt.plot(arr, y_cos, color='m', linewidth=2, label=\"cos(x)\")\n",
    "\n",
    "plt.xlim(arr.min()*1.1, arr.max()*1.1)\n",
    "plt.ylim(y_sin.min()*1.1, y_sin.max()*1.1)\n",
    "\n",
    "plt.xticks([-np.pi, -np.pi/2, 0, np.pi/2, np.pi], \n",
    "           [r'$-\\pi$', r'$-\\pi/2$', r'$0$', r'$\\pi/2$', r'$\\pi$'])\n",
    "plt.yticks([-1, 0, 1])\n",
    "plt.legend(loc='lower right', frameon=False, fontsize='large')\n",
    "plt.show()"
   ]
  },
  {
   "cell_type": "markdown",
   "metadata": {},
   "source": [
    "### Spines and Annotation"
   ]
  },
  {
   "cell_type": "code",
   "execution_count": null,
   "metadata": {
    "collapsed": true
   },
   "outputs": [],
   "source": []
  }
 ],
 "metadata": {
  "kernelspec": {
   "display_name": "Python 3",
   "language": "python",
   "name": "python3"
  },
  "language_info": {
   "codemirror_mode": {
    "name": "ipython",
    "version": 3
   },
   "file_extension": ".py",
   "mimetype": "text/x-python",
   "name": "python",
   "nbconvert_exporter": "python",
   "pygments_lexer": "ipython3",
   "version": "3.6.2"
  }
 },
 "nbformat": 4,
 "nbformat_minor": 2
}
